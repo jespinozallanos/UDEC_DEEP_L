{
  "nbformat": 4,
  "nbformat_minor": 0,
  "metadata": {
    "colab": {
      "provenance": [],
      "gpuType": "T4"
    },
    "kernelspec": {
      "name": "python3",
      "display_name": "Python 3"
    },
    "language_info": {
      "name": "python"
    },
    "accelerator": "GPU",
    "gpuClass": "standard"
  },
  "cells": [
    {
      "cell_type": "markdown",
      "source": [
        "# preparacion de datos desde archivo .npy"
      ],
      "metadata": {
        "id": "qM5QWrV3ogqb"
      }
    },
    {
      "cell_type": "code",
      "source": [
        "from google.colab import drive\n",
        "drive.mount('/content/drive')"
      ],
      "metadata": {
        "colab": {
          "base_uri": "https://localhost:8080/"
        },
        "id": "eBhvjTqQDo-T",
        "outputId": "26bad8bc-54f9-4413-a334-b58ce21d1a62"
      },
      "execution_count": null,
      "outputs": [
        {
          "output_type": "stream",
          "name": "stdout",
          "text": [
            "Drive already mounted at /content/drive; to attempt to forcibly remount, call drive.mount(\"/content/drive\", force_remount=True).\n"
          ]
        }
      ]
    },
    {
      "cell_type": "code",
      "execution_count": null,
      "metadata": {
        "id": "L2esxx6lACja"
      },
      "outputs": [],
      "source": [
        "#cargar npy\n",
        "import numpy as np\n",
        "import pandas as pd\n",
        "\n",
        "merged_np = np.load('drive/MyDrive/dict_stamps.npy', allow_pickle = True)  #cargar datos\n",
        "merged_df = pd.DataFrame(merged_np)  #Transformar a Dataframe\n",
        "merged_df.columns = ['ID','p_smooth', 'p_features', 'p_irregular', 'p_point_source', 'p_unclassifiable', 'data' ]  #renombrar columnas de acuerdo al original\n",
        "merged_df"
      ]
    },
    {
      "cell_type": "code",
      "source": [
        "#UTILIZANDO DATOS .NPY CARGADOS:\n",
        "x_data_train = np.stack(merged_df[\"data\"].values, axis=0)     #SEPARO LOS DATOS DE ENTRADA DE ENTRENAMIENTO, DESDE LA COLUMNA DATA, DEL ARCHIVO .NPY CARGADO\n",
        "x_data_train= x_data_train.reshape(-1, 31, 31, 1)                   #reshape PARA LA ENTRADA A LA CNN como datos de entrenamiento, con forma 31x31 pix, 1 solo color.\n",
        "y_data_train = np.array(merged_df.iloc[:,1:6])                #SEPARO LOS DATOS DE SALIDA(PROB. CLASES) DESDE ARCHIVO .NPY CARGADO (columnas de clases)\n",
        "\n",
        "print('shape de datos de entrenamiento son:')\n",
        "x_data_train.shape, y_data_train.shape"
      ],
      "metadata": {
        "colab": {
          "base_uri": "https://localhost:8080/"
        },
        "id": "_AoNfZcCBhw_",
        "outputId": "01262771-196d-40f3-f6ef-974c32ac5318"
      },
      "execution_count": null,
      "outputs": [
        {
          "output_type": "stream",
          "name": "stdout",
          "text": [
            "shape de datos de entrenamiento son:\n"
          ]
        },
        {
          "output_type": "execute_result",
          "data": {
            "text/plain": [
              "((6431, 31, 31, 1), (6431, 5))"
            ]
          },
          "metadata": {},
          "execution_count": 4
        }
      ]
    },
    {
      "cell_type": "code",
      "source": [
        "from sklearn.model_selection import train_test_split\n",
        "import tensorflow as tf\n",
        "\n",
        "#X:\n",
        "x_data_train = tf.convert_to_tensor(x_data_train)    #converttir a tensor, ya que el modelo lee de esta forma, sino arroja error.\n",
        "\n",
        "#Y:\n",
        "y_data_train = y_data_train.astype('float32')       #transformar a float 32 para poder convertir a tensor.\n",
        "y_data_train = tf.convert_to_tensor(y_data_train)   #converttir a tensor, ya que el modelo lee de esta forma, sino arroja error.\n",
        "\n",
        "x_data_train.shape, y_data_train.shape"
      ],
      "metadata": {
        "colab": {
          "base_uri": "https://localhost:8080/"
        },
        "id": "93EOFRm2BjWs",
        "outputId": "df55921b-07f9-4936-b2af-53d1420d3451"
      },
      "execution_count": null,
      "outputs": [
        {
          "output_type": "execute_result",
          "data": {
            "text/plain": [
              "(TensorShape([6431, 31, 31, 1]), TensorShape([6431, 5]))"
            ]
          },
          "metadata": {},
          "execution_count": 5
        }
      ]
    },
    {
      "cell_type": "markdown",
      "source": [
        "# Modelo 1: \n",
        "El modelo 1 se encuentra en el jupyter anterior, el cual se implemento mediante vscode para el tratamiento de los datos, ya que el peso de los archivos de imagenes era muy alto"
      ],
      "metadata": {
        "id": "DRZ03ucu74TP"
      }
    },
    {
      "cell_type": "markdown",
      "source": [
        "# modelo 2: LeNet con dropout"
      ],
      "metadata": {
        "id": "0lr5gs-nEtoW"
      }
    },
    {
      "cell_type": "code",
      "source": [
        "import tensorflow as tf\n",
        "from tensorflow import keras\n",
        "from tensorflow.keras import layers\n",
        "from keras.optimizers import Adam\n",
        "import matplotlib.pyplot as plt \n",
        "from keras.callbacks import EarlyStopping\n",
        "\n",
        "\n",
        "# Crear modelo\n",
        "model2 = keras.Sequential()\n",
        "\n",
        "# Añadir capas\n",
        "model2.add(layers.Conv2D(128, (3, 3), activation='relu', input_shape=(31, 31, 1)))\n",
        "model2.add(layers.MaxPooling2D((2, 2)))\n",
        "model2.add(layers.Dropout(0.3))     #se agrego dropout de 30%\n",
        "model2.add(layers.Conv2D(256, (3, 3), activation='relu'))\n",
        "model2.add(layers.MaxPooling2D((2, 2)))\n",
        "model2.add(layers.Dropout(0.3))     #se agrego dropout de 30%\n",
        "model2.add(layers.Conv2D(512, (3, 3), activation='relu'))\n",
        "#fully connected\n",
        "model2.add(layers.Flatten())\n",
        "model2.add(layers.Dense(128, activation='relu'))\n",
        "model2.add(layers.Dense(5, activation='softmax'))\n",
        "\n",
        "\n",
        "# Compilar modelo\n",
        "optimizer = Adam(learning_rate=0.0001, beta_1=0.9, beta_2=0.999)   \n",
        "model2.compile(optimizer=optimizer, loss='mean_squared_error', metrics=['accuracy'])\n",
        "\n",
        "# Entrenar modelo\n",
        "history2 = model2.fit(x_data_train, y_data_train, epochs=50, batch_size= 1, callbacks = [EarlyStopping(monitor='val_accuracy', patience=5)], validation_split=0.2)  \n",
        "\n",
        "\n",
        "#plot\n",
        "plt.figure(figsize=(10, 10))\n",
        "\n",
        "plt.subplot(2, 2, 1)\n",
        "plt.plot(history2.history['loss'], label='Loss')\n",
        "plt.plot(history2.history['val_loss'], label='Validation Loss')\n",
        "plt.legend()\n",
        "plt.title('Training - Loss Function')\n",
        "\n",
        "plt.subplot(2, 2, 2)\n",
        "plt.plot(history2.history['accuracy'], label='Accuracy')\n",
        "plt.plot(history2.history['val_accuracy'], label='Validation Accuracy')\n",
        "plt.legend()\n",
        "plt.title('Train - Accuracy')"
      ],
      "metadata": {
        "colab": {
          "base_uri": "https://localhost:8080/",
          "height": 1000
        },
        "id": "OqwFcvEYBjRx",
        "outputId": "55dd1803-c8c6-48e3-d7a7-efae56c2667f"
      },
      "execution_count": null,
      "outputs": [
        {
          "output_type": "stream",
          "name": "stdout",
          "text": [
            "Epoch 1/50\n",
            "5144/5144 [==============================] - 21s 4ms/step - loss: 0.0471 - accuracy: 0.6433 - val_loss: 0.0376 - val_accuracy: 0.6698\n",
            "Epoch 2/50\n",
            "5144/5144 [==============================] - 23s 4ms/step - loss: 0.0355 - accuracy: 0.7117 - val_loss: 0.0340 - val_accuracy: 0.7280\n",
            "Epoch 3/50\n",
            "5144/5144 [==============================] - 26s 5ms/step - loss: 0.0340 - accuracy: 0.7187 - val_loss: 0.0332 - val_accuracy: 0.7288\n",
            "Epoch 4/50\n",
            "5144/5144 [==============================] - 21s 4ms/step - loss: 0.0331 - accuracy: 0.7232 - val_loss: 0.0336 - val_accuracy: 0.7211\n",
            "Epoch 5/50\n",
            "5144/5144 [==============================] - 22s 4ms/step - loss: 0.0318 - accuracy: 0.7344 - val_loss: 0.0335 - val_accuracy: 0.7211\n",
            "Epoch 6/50\n",
            "5144/5144 [==============================] - 28s 5ms/step - loss: 0.0313 - accuracy: 0.7344 - val_loss: 0.0315 - val_accuracy: 0.7335\n",
            "Epoch 7/50\n",
            "5144/5144 [==============================] - 20s 4ms/step - loss: 0.0303 - accuracy: 0.7362 - val_loss: 0.0313 - val_accuracy: 0.7226\n",
            "Epoch 8/50\n",
            "5144/5144 [==============================] - 24s 5ms/step - loss: 0.0299 - accuracy: 0.7434 - val_loss: 0.0333 - val_accuracy: 0.7335\n",
            "Epoch 9/50\n",
            "5144/5144 [==============================] - 23s 5ms/step - loss: 0.0287 - accuracy: 0.7508 - val_loss: 0.0327 - val_accuracy: 0.7125\n",
            "Epoch 10/50\n",
            "5144/5144 [==============================] - 20s 4ms/step - loss: 0.0280 - accuracy: 0.7584 - val_loss: 0.0280 - val_accuracy: 0.7521\n",
            "Epoch 11/50\n",
            "5144/5144 [==============================] - 28s 5ms/step - loss: 0.0273 - accuracy: 0.7589 - val_loss: 0.0294 - val_accuracy: 0.7568\n",
            "Epoch 12/50\n",
            "5144/5144 [==============================] - 24s 5ms/step - loss: 0.0264 - accuracy: 0.7630 - val_loss: 0.0295 - val_accuracy: 0.7568\n",
            "Epoch 13/50\n",
            "5144/5144 [==============================] - 21s 4ms/step - loss: 0.0259 - accuracy: 0.7619 - val_loss: 0.0288 - val_accuracy: 0.7366\n",
            "Epoch 14/50\n",
            "5144/5144 [==============================] - 21s 4ms/step - loss: 0.0252 - accuracy: 0.7673 - val_loss: 0.0279 - val_accuracy: 0.7506\n",
            "Epoch 15/50\n",
            "5144/5144 [==============================] - 20s 4ms/step - loss: 0.0249 - accuracy: 0.7698 - val_loss: 0.0277 - val_accuracy: 0.7653\n",
            "Epoch 16/50\n",
            "5144/5144 [==============================] - 22s 4ms/step - loss: 0.0243 - accuracy: 0.7762 - val_loss: 0.0277 - val_accuracy: 0.7420\n",
            "Epoch 17/50\n",
            "5144/5144 [==============================] - 20s 4ms/step - loss: 0.0236 - accuracy: 0.7762 - val_loss: 0.0271 - val_accuracy: 0.7514\n",
            "Epoch 18/50\n",
            "5144/5144 [==============================] - 20s 4ms/step - loss: 0.0232 - accuracy: 0.7844 - val_loss: 0.0281 - val_accuracy: 0.7467\n",
            "Epoch 19/50\n",
            "5144/5144 [==============================] - 21s 4ms/step - loss: 0.0229 - accuracy: 0.7807 - val_loss: 0.0270 - val_accuracy: 0.7584\n",
            "Epoch 20/50\n",
            "5144/5144 [==============================] - 26s 5ms/step - loss: 0.0222 - accuracy: 0.7963 - val_loss: 0.0270 - val_accuracy: 0.7584\n"
          ]
        },
        {
          "output_type": "execute_result",
          "data": {
            "text/plain": [
              "Text(0.5, 1.0, 'Train - Accuracy')"
            ]
          },
          "metadata": {},
          "execution_count": 11
        },
        {
          "output_type": "display_data",
          "data": {
            "text/plain": [
              "<Figure size 1000x1000 with 2 Axes>"
            ],
            "image/png": "[encoded data removed]"
          },
          "metadata": {}
        }
      ]
    },
    {
      "cell_type": "markdown",
      "source": [
        "el desempeño del accuracy aumento, sigue con algunas fluctuaciones. en cuanto a la curva de perdida en la epoca 10 comienza un leve overfitting, pero mejora respecto al modelo anterior."
      ],
      "metadata": {
        "id": "1T3OaHMDrR8z"
      }
    },
    {
      "cell_type": "code",
      "source": [
        "#obtener predicciones y guardar en variable predicted_classes:\n",
        "predicted_classes = model2.predict(x_test)            #y_test o predicciones de datos que no ha visto el modelo\n",
        "predicted_classes = pd.DataFrame(predicted_classes)   #transformo a dataframe\n",
        "predicted_classes"
      ],
      "metadata": {
        "colab": {
          "base_uri": "https://localhost:8080/",
          "height": 442
        },
        "id": "z3NEr3LMGodc",
        "outputId": "13d8c2c0-c2dd-4623-f196-c33823130544"
      },
      "execution_count": null,
      "outputs": [
        {
          "output_type": "stream",
          "name": "stdout",
          "text": [
            "36/36 [==============================] - 0s 3ms/step\n"
          ]
        },
        {
          "output_type": "execute_result",
          "data": {
            "text/plain": [
              "             0         1         2         3         4\n",
              "0     0.200256  0.200079  0.199844  0.199914  0.199906\n",
              "1     0.199838  0.200652  0.200348  0.200373  0.198789\n",
              "2     0.200298  0.200131  0.199882  0.199945  0.199744\n",
              "3     0.199980  0.200069  0.200126  0.199988  0.199838\n",
              "4     0.200019  0.200091  0.200019  0.200115  0.199757\n",
              "...        ...       ...       ...       ...       ...\n",
              "1131  0.200012  0.200005  0.200088  0.199986  0.199910\n",
              "1132  0.200981  0.200163  0.200764  0.200326  0.197766\n",
              "1133  0.199974  0.200147  0.200034  0.200146  0.199698\n",
              "1134  0.200135  0.200068  0.200128  0.200042  0.199626\n",
              "1135  0.200138  0.200341  0.200297  0.200288  0.198936\n",
              "\n",
              "[1136 rows x 5 columns]"
            ],
            "text/html": [
              "\n",
              "  <div id=\"df-f2c8f886-4141-4688-855e-17f48be9a405\">\n",
              "    <div class=\"colab-df-container\">\n",
              "      <div>\n",
              "<style scoped>\n",
              "    .dataframe tbody tr th:only-of-type {\n",
              "        vertical-align: middle;\n",
              "    }\n",
              "\n",
              "    .dataframe tbody tr th {\n",
              "        vertical-align: top;\n",
              "    }\n",
              "\n",
              "    .dataframe thead th {\n",
              "        text-align: right;\n",
              "    }\n",
              "</style>\n",
              "<table border=\"1\" class=\"dataframe\">\n",
              "  <thead>\n",
              "    <tr style=\"text-align: right;\">\n",
              "      <th></th>\n",
              "      <th>0</th>\n",
              "      <th>1</th>\n",
              "      <th>2</th>\n",
              "      <th>3</th>\n",
              "      <th>4</th>\n",
              "    </tr>\n",
              "  </thead>\n",
              "  <tbody>\n",
              "    <tr>\n",
              "      <th>0</th>\n",
              "      <td>0.200256</td>\n",
              "      <td>0.200079</td>\n",
              "      <td>0.199844</td>\n",
              "      <td>0.199914</td>\n",
              "      <td>0.199906</td>\n",
              "    </tr>\n",
              "    <tr>\n",
              "      <th>1</th>\n",
              "      <td>0.199838</td>\n",
              "      <td>0.200652</td>\n",
              "      <td>0.200348</td>\n",
              "      <td>0.200373</td>\n",
              "      <td>0.198789</td>\n",
              "    </tr>\n",
              "    <tr>\n",
              "      <th>2</th>\n",
              "      <td>0.200298</td>\n",
              "      <td>0.200131</td>\n",
              "      <td>0.199882</td>\n",
              "      <td>0.199945</td>\n",
              "      <td>0.199744</td>\n",
              "    </tr>\n",
              "    <tr>\n",
              "      <th>3</th>\n",
              "      <td>0.199980</td>\n",
              "      <td>0.200069</td>\n",
              "      <td>0.200126</td>\n",
              "      <td>0.199988</td>\n",
              "      <td>0.199838</td>\n",
              "    </tr>\n",
              "    <tr>\n",
              "      <th>4</th>\n",
              "      <td>0.200019</td>\n",
              "      <td>0.200091</td>\n",
              "      <td>0.200019</td>\n",
              "      <td>0.200115</td>\n",
              "      <td>0.199757</td>\n",
              "    </tr>\n",
              "    <tr>\n",
              "      <th>...</th>\n",
              "      <td>...</td>\n",
              "      <td>...</td>\n",
              "      <td>...</td>\n",
              "      <td>...</td>\n",
              "      <td>...</td>\n",
              "    </tr>\n",
              "    <tr>\n",
              "      <th>1131</th>\n",
              "      <td>0.200012</td>\n",
              "      <td>0.200005</td>\n",
              "      <td>0.200088</td>\n",
              "      <td>0.199986</td>\n",
              "      <td>0.199910</td>\n",
              "    </tr>\n",
              "    <tr>\n",
              "      <th>1132</th>\n",
              "      <td>0.200981</td>\n",
              "      <td>0.200163</td>\n",
              "      <td>0.200764</td>\n",
              "      <td>0.200326</td>\n",
              "      <td>0.197766</td>\n",
              "    </tr>\n",
              "    <tr>\n",
              "      <th>1133</th>\n",
              "      <td>0.199974</td>\n",
              "      <td>0.200147</td>\n",
              "      <td>0.200034</td>\n",
              "      <td>0.200146</td>\n",
              "      <td>0.199698</td>\n",
              "    </tr>\n",
              "    <tr>\n",
              "      <th>1134</th>\n",
              "      <td>0.200135</td>\n",
              "      <td>0.200068</td>\n",
              "      <td>0.200128</td>\n",
              "      <td>0.200042</td>\n",
              "      <td>0.199626</td>\n",
              "    </tr>\n",
              "    <tr>\n",
              "      <th>1135</th>\n",
              "      <td>0.200138</td>\n",
              "      <td>0.200341</td>\n",
              "      <td>0.200297</td>\n",
              "      <td>0.200288</td>\n",
              "      <td>0.198936</td>\n",
              "    </tr>\n",
              "  </tbody>\n",
              "</table>\n",
              "<p>1136 rows × 5 columns</p>\n",
              "</div>\n",
              "      <button class=\"colab-df-convert\" onclick=\"convertToInteractive('df-f2c8f886-4141-4688-855e-17f48be9a405')\"\n",
              "              title=\"Convert this dataframe to an interactive table.\"\n",
              "              style=\"display:none;\">\n",
              "        \n",
              "  <svg xmlns=\"http://www.w3.org/2000/svg\" height=\"24px\"viewBox=\"0 0 24 24\"\n",
              "       width=\"24px\">\n",
              "    <path d=\"M0 0h24v24H0V0z\" fill=\"none\"/>\n",
              "    <path d=\"M18.56 5.44l.94 2.06.94-2.06 2.06-.94-2.06-.94-.94-2.06-.94 2.06-2.06.94zm-11 1L8.5 8.5l.94-2.06 2.06-.94-2.06-.94L8.5 2.5l-.94 2.06-2.06.94zm10 10l.94 2.06.94-2.06 2.06-.94-2.06-.94-.94-2.06-.94 2.06-2.06.94z\"/><path d=\"M17.41 7.96l-1.37-1.37c-.4-.4-.92-.59-1.43-.59-.52 0-1.04.2-1.43.59L10.3 9.45l-7.72 7.72c-.78.78-.78 2.05 0 2.83L4 21.41c.39.39.9.59 1.41.59.51 0 1.02-.2 1.41-.59l7.78-7.78 2.81-2.81c.8-.78.8-2.07 0-2.86zM5.41 20L4 18.59l7.72-7.72 1.47 1.35L5.41 20z\"/>\n",
              "  </svg>\n",
              "      </button>\n",
              "      \n",
              "  <style>\n",
              "    .colab-df-container {\n",
              "      display:flex;\n",
              "      flex-wrap:wrap;\n",
              "      gap: 12px;\n",
              "    }\n",
              "\n",
              "    .colab-df-convert {\n",
              "      background-color: #E8F0FE;\n",
              "      border: none;\n",
              "      border-radius: 50%;\n",
              "      cursor: pointer;\n",
              "      display: none;\n",
              "      fill: #1967D2;\n",
              "      height: 32px;\n",
              "      padding: 0 0 0 0;\n",
              "      width: 32px;\n",
              "    }\n",
              "\n",
              "    .colab-df-convert:hover {\n",
              "      background-color: #E2EBFA;\n",
              "      box-shadow: 0px 1px 2px rgba(60, 64, 67, 0.3), 0px 1px 3px 1px rgba(60, 64, 67, 0.15);\n",
              "      fill: #174EA6;\n",
              "    }\n",
              "\n",
              "    [theme=dark] .colab-df-convert {\n",
              "      background-color: #3B4455;\n",
              "      fill: #D2E3FC;\n",
              "    }\n",
              "\n",
              "    [theme=dark] .colab-df-convert:hover {\n",
              "      background-color: #434B5C;\n",
              "      box-shadow: 0px 1px 3px 1px rgba(0, 0, 0, 0.15);\n",
              "      filter: drop-shadow(0px 1px 2px rgba(0, 0, 0, 0.3));\n",
              "      fill: #FFFFFF;\n",
              "    }\n",
              "  </style>\n",
              "\n",
              "      <script>\n",
              "        const buttonEl =\n",
              "          document.querySelector('#df-f2c8f886-4141-4688-855e-17f48be9a405 button.colab-df-convert');\n",
              "        buttonEl.style.display =\n",
              "          google.colab.kernel.accessAllowed ? 'block' : 'none';\n",
              "\n",
              "        async function convertToInteractive(key) {\n",
              "          const element = document.querySelector('#df-f2c8f886-4141-4688-855e-17f48be9a405');\n",
              "          const dataTable =\n",
              "            await google.colab.kernel.invokeFunction('convertToInteractive',\n",
              "                                                     [key], {});\n",
              "          if (!dataTable) return;\n",
              "\n",
              "          const docLinkHtml = 'Like what you see? Visit the ' +\n",
              "            '<a target=\"_blank\" href=https://colab.research.google.com/notebooks/data_table.ipynb>data table notebook</a>'\n",
              "            + ' to learn more about interactive tables.';\n",
              "          element.innerHTML = '';\n",
              "          dataTable['output_type'] = 'display_data';\n",
              "          await google.colab.output.renderOutput(dataTable, element);\n",
              "          const docLink = document.createElement('div');\n",
              "          docLink.innerHTML = docLinkHtml;\n",
              "          element.appendChild(docLink);\n",
              "        }\n",
              "      </script>\n",
              "    </div>\n",
              "  </div>\n",
              "  "
            ]
          },
          "metadata": {},
          "execution_count": 49
        }
      ]
    },
    {
      "cell_type": "code",
      "source": [
        "x_test_id= pd.read_csv('/content/drive/MyDrive/predicted.csv')   #guardamos a csv\n",
        "x_test_id = x_test_id['ID']                                      #guardo solo la columna de ID´s para juntarla con las predicciones y cumplir con el requerimeinto de la 6ta columna."
      ],
      "metadata": {
        "colab": {
          "base_uri": "https://localhost:8080/"
        },
        "id": "e0B3RscT3qyk",
        "outputId": "1a8fcd30-4be1-4ac4-92b7-a4a61b71e783"
      },
      "execution_count": null,
      "outputs": [
        {
          "output_type": "execute_result",
          "data": {
            "text/plain": [
              "((1136,), (1136, 5))"
            ]
          },
          "metadata": {},
          "execution_count": 47
        }
      ]
    },
    {
      "cell_type": "code",
      "source": [
        "predicted2 = pd.concat([x_test_id, predicted_classes], axis=1)   #juntamos la columna ID del archivo de prediciones que se tenia guardado por mi con los datos de prediccion.\n",
        "predicted2.columns = ['ID','p_smooth', 'p_features', 'p_irregular', 'p_point_source', 'p_unclassifiable']   #se renombran las columnas de salida\n",
        "predicted2"
      ],
      "metadata": {
        "colab": {
          "base_uri": "https://localhost:8080/",
          "height": 423
        },
        "id": "EHKxLf-G4IeO",
        "outputId": "8f5ffff4-339a-41b0-ab1a-6f055bce4a32"
      },
      "execution_count": null,
      "outputs": [
        {
          "output_type": "execute_result",
          "data": {
            "text/plain": [
              "                   ID  p_smooth  p_features  p_irregular  p_point_source  \\\n",
              "0     GDS_deep2_10075  0.200256    0.200079     0.199844        0.199914   \n",
              "1     GDS_deep2_10082  0.199838    0.200652     0.200348        0.200373   \n",
              "2     GDS_deep2_10087  0.200298    0.200131     0.199882        0.199945   \n",
              "3     GDS_deep2_10110  0.199980    0.200069     0.200126        0.199988   \n",
              "4     GDS_deep2_10135  0.200019    0.200091     0.200019        0.200115   \n",
              "...               ...       ...         ...          ...             ...   \n",
              "1131   GDS_wide2_9762  0.200012    0.200005     0.200088        0.199986   \n",
              "1132   GDS_wide2_9865  0.200981    0.200163     0.200764        0.200326   \n",
              "1133   GDS_wide2_9894  0.199974    0.200147     0.200034        0.200146   \n",
              "1134    GDS_wide2_991  0.200135    0.200068     0.200128        0.200042   \n",
              "1135   GDS_wide2_9910  0.200138    0.200341     0.200297        0.200288   \n",
              "\n",
              "      p_unclassifiable  \n",
              "0             0.199906  \n",
              "1             0.198789  \n",
              "2             0.199744  \n",
              "3             0.199838  \n",
              "4             0.199757  \n",
              "...                ...  \n",
              "1131          0.199910  \n",
              "1132          0.197766  \n",
              "1133          0.199698  \n",
              "1134          0.199626  \n",
              "1135          0.198936  \n",
              "\n",
              "[1136 rows x 6 columns]"
            ],
            "text/html": [
              "\n",
              "  <div id=\"df-74e4eaed-e3b4-4721-a3b7-472fb6204672\">\n",
              "    <div class=\"colab-df-container\">\n",
              "      <div>\n",
              "<style scoped>\n",
              "    .dataframe tbody tr th:only-of-type {\n",
              "        vertical-align: middle;\n",
              "    }\n",
              "\n",
              "    .dataframe tbody tr th {\n",
              "        vertical-align: top;\n",
              "    }\n",
              "\n",
              "    .dataframe thead th {\n",
              "        text-align: right;\n",
              "    }\n",
              "</style>\n",
              "<table border=\"1\" class=\"dataframe\">\n",
              "  <thead>\n",
              "    <tr style=\"text-align: right;\">\n",
              "      <th></th>\n",
              "      <th>ID</th>\n",
              "      <th>p_smooth</th>\n",
              "      <th>p_features</th>\n",
              "      <th>p_irregular</th>\n",
              "      <th>p_point_source</th>\n",
              "      <th>p_unclassifiable</th>\n",
              "    </tr>\n",
              "  </thead>\n",
              "  <tbody>\n",
              "    <tr>\n",
              "      <th>0</th>\n",
              "      <td>GDS_deep2_10075</td>\n",
              "      <td>0.200256</td>\n",
              "      <td>0.200079</td>\n",
              "      <td>0.199844</td>\n",
              "      <td>0.199914</td>\n",
              "      <td>0.199906</td>\n",
              "    </tr>\n",
              "    <tr>\n",
              "      <th>1</th>\n",
              "      <td>GDS_deep2_10082</td>\n",
              "      <td>0.199838</td>\n",
              "      <td>0.200652</td>\n",
              "      <td>0.200348</td>\n",
              "      <td>0.200373</td>\n",
              "      <td>0.198789</td>\n",
              "    </tr>\n",
              "    <tr>\n",
              "      <th>2</th>\n",
              "      <td>GDS_deep2_10087</td>\n",
              "      <td>0.200298</td>\n",
              "      <td>0.200131</td>\n",
              "      <td>0.199882</td>\n",
              "      <td>0.199945</td>\n",
              "      <td>0.199744</td>\n",
              "    </tr>\n",
              "    <tr>\n",
              "      <th>3</th>\n",
              "      <td>GDS_deep2_10110</td>\n",
              "      <td>0.199980</td>\n",
              "      <td>0.200069</td>\n",
              "      <td>0.200126</td>\n",
              "      <td>0.199988</td>\n",
              "      <td>0.199838</td>\n",
              "    </tr>\n",
              "    <tr>\n",
              "      <th>4</th>\n",
              "      <td>GDS_deep2_10135</td>\n",
              "      <td>0.200019</td>\n",
              "      <td>0.200091</td>\n",
              "      <td>0.200019</td>\n",
              "      <td>0.200115</td>\n",
              "      <td>0.199757</td>\n",
              "    </tr>\n",
              "    <tr>\n",
              "      <th>...</th>\n",
              "      <td>...</td>\n",
              "      <td>...</td>\n",
              "      <td>...</td>\n",
              "      <td>...</td>\n",
              "      <td>...</td>\n",
              "      <td>...</td>\n",
              "    </tr>\n",
              "    <tr>\n",
              "      <th>1131</th>\n",
              "      <td>GDS_wide2_9762</td>\n",
              "      <td>0.200012</td>\n",
              "      <td>0.200005</td>\n",
              "      <td>0.200088</td>\n",
              "      <td>0.199986</td>\n",
              "      <td>0.199910</td>\n",
              "    </tr>\n",
              "    <tr>\n",
              "      <th>1132</th>\n",
              "      <td>GDS_wide2_9865</td>\n",
              "      <td>0.200981</td>\n",
              "      <td>0.200163</td>\n",
              "      <td>0.200764</td>\n",
              "      <td>0.200326</td>\n",
              "      <td>0.197766</td>\n",
              "    </tr>\n",
              "    <tr>\n",
              "      <th>1133</th>\n",
              "      <td>GDS_wide2_9894</td>\n",
              "      <td>0.199974</td>\n",
              "      <td>0.200147</td>\n",
              "      <td>0.200034</td>\n",
              "      <td>0.200146</td>\n",
              "      <td>0.199698</td>\n",
              "    </tr>\n",
              "    <tr>\n",
              "      <th>1134</th>\n",
              "      <td>GDS_wide2_991</td>\n",
              "      <td>0.200135</td>\n",
              "      <td>0.200068</td>\n",
              "      <td>0.200128</td>\n",
              "      <td>0.200042</td>\n",
              "      <td>0.199626</td>\n",
              "    </tr>\n",
              "    <tr>\n",
              "      <th>1135</th>\n",
              "      <td>GDS_wide2_9910</td>\n",
              "      <td>0.200138</td>\n",
              "      <td>0.200341</td>\n",
              "      <td>0.200297</td>\n",
              "      <td>0.200288</td>\n",
              "      <td>0.198936</td>\n",
              "    </tr>\n",
              "  </tbody>\n",
              "</table>\n",
              "<p>1136 rows × 6 columns</p>\n",
              "</div>\n",
              "      <button class=\"colab-df-convert\" onclick=\"convertToInteractive('df-74e4eaed-e3b4-4721-a3b7-472fb6204672')\"\n",
              "              title=\"Convert this dataframe to an interactive table.\"\n",
              "              style=\"display:none;\">\n",
              "        \n",
              "  <svg xmlns=\"http://www.w3.org/2000/svg\" height=\"24px\"viewBox=\"0 0 24 24\"\n",
              "       width=\"24px\">\n",
              "    <path d=\"M0 0h24v24H0V0z\" fill=\"none\"/>\n",
              "    <path d=\"M18.56 5.44l.94 2.06.94-2.06 2.06-.94-2.06-.94-.94-2.06-.94 2.06-2.06.94zm-11 1L8.5 8.5l.94-2.06 2.06-.94-2.06-.94L8.5 2.5l-.94 2.06-2.06.94zm10 10l.94 2.06.94-2.06 2.06-.94-2.06-.94-.94-2.06-.94 2.06-2.06.94z\"/><path d=\"M17.41 7.96l-1.37-1.37c-.4-.4-.92-.59-1.43-.59-.52 0-1.04.2-1.43.59L10.3 9.45l-7.72 7.72c-.78.78-.78 2.05 0 2.83L4 21.41c.39.39.9.59 1.41.59.51 0 1.02-.2 1.41-.59l7.78-7.78 2.81-2.81c.8-.78.8-2.07 0-2.86zM5.41 20L4 18.59l7.72-7.72 1.47 1.35L5.41 20z\"/>\n",
              "  </svg>\n",
              "      </button>\n",
              "      \n",
              "  <style>\n",
              "    .colab-df-container {\n",
              "      display:flex;\n",
              "      flex-wrap:wrap;\n",
              "      gap: 12px;\n",
              "    }\n",
              "\n",
              "    .colab-df-convert {\n",
              "      background-color: #E8F0FE;\n",
              "      border: none;\n",
              "      border-radius: 50%;\n",
              "      cursor: pointer;\n",
              "      display: none;\n",
              "      fill: #1967D2;\n",
              "      height: 32px;\n",
              "      padding: 0 0 0 0;\n",
              "      width: 32px;\n",
              "    }\n",
              "\n",
              "    .colab-df-convert:hover {\n",
              "      background-color: #E2EBFA;\n",
              "      box-shadow: 0px 1px 2px rgba(60, 64, 67, 0.3), 0px 1px 3px 1px rgba(60, 64, 67, 0.15);\n",
              "      fill: #174EA6;\n",
              "    }\n",
              "\n",
              "    [theme=dark] .colab-df-convert {\n",
              "      background-color: #3B4455;\n",
              "      fill: #D2E3FC;\n",
              "    }\n",
              "\n",
              "    [theme=dark] .colab-df-convert:hover {\n",
              "      background-color: #434B5C;\n",
              "      box-shadow: 0px 1px 3px 1px rgba(0, 0, 0, 0.15);\n",
              "      filter: drop-shadow(0px 1px 2px rgba(0, 0, 0, 0.3));\n",
              "      fill: #FFFFFF;\n",
              "    }\n",
              "  </style>\n",
              "\n",
              "      <script>\n",
              "        const buttonEl =\n",
              "          document.querySelector('#df-74e4eaed-e3b4-4721-a3b7-472fb6204672 button.colab-df-convert');\n",
              "        buttonEl.style.display =\n",
              "          google.colab.kernel.accessAllowed ? 'block' : 'none';\n",
              "\n",
              "        async function convertToInteractive(key) {\n",
              "          const element = document.querySelector('#df-74e4eaed-e3b4-4721-a3b7-472fb6204672');\n",
              "          const dataTable =\n",
              "            await google.colab.kernel.invokeFunction('convertToInteractive',\n",
              "                                                     [key], {});\n",
              "          if (!dataTable) return;\n",
              "\n",
              "          const docLinkHtml = 'Like what you see? Visit the ' +\n",
              "            '<a target=\"_blank\" href=https://colab.research.google.com/notebooks/data_table.ipynb>data table notebook</a>'\n",
              "            + ' to learn more about interactive tables.';\n",
              "          element.innerHTML = '';\n",
              "          dataTable['output_type'] = 'display_data';\n",
              "          await google.colab.output.renderOutput(dataTable, element);\n",
              "          const docLink = document.createElement('div');\n",
              "          docLink.innerHTML = docLinkHtml;\n",
              "          element.appendChild(docLink);\n",
              "        }\n",
              "      </script>\n",
              "    </div>\n",
              "  </div>\n",
              "  "
            ]
          },
          "metadata": {},
          "execution_count": 62
        }
      ]
    },
    {
      "cell_type": "code",
      "source": [
        "#predicted2.set_index('ID', inplace=True)   #se establece la columna ID como indice del dataframe sobre la variable predicted2\n",
        "predicted2"
      ],
      "metadata": {
        "colab": {
          "base_uri": "https://localhost:8080/",
          "height": 455
        },
        "id": "4T6-J6yWa0uK",
        "outputId": "7dbcd60d-3634-4bd7-a535-bf0b5a802ce4"
      },
      "execution_count": null,
      "outputs": [
        {
          "output_type": "execute_result",
          "data": {
            "text/plain": [
              "                 p_smooth  p_features  p_irregular  p_point_source  \\\n",
              "ID                                                                   \n",
              "GDS_deep2_10075  0.200256    0.200079     0.199844        0.199914   \n",
              "GDS_deep2_10082  0.199838    0.200652     0.200348        0.200373   \n",
              "GDS_deep2_10087  0.200298    0.200131     0.199882        0.199945   \n",
              "GDS_deep2_10110  0.199980    0.200069     0.200126        0.199988   \n",
              "GDS_deep2_10135  0.200019    0.200091     0.200019        0.200115   \n",
              "...                   ...         ...          ...             ...   \n",
              "GDS_wide2_9762   0.200012    0.200005     0.200088        0.199986   \n",
              "GDS_wide2_9865   0.200981    0.200163     0.200764        0.200326   \n",
              "GDS_wide2_9894   0.199974    0.200147     0.200034        0.200146   \n",
              "GDS_wide2_991    0.200135    0.200068     0.200128        0.200042   \n",
              "GDS_wide2_9910   0.200138    0.200341     0.200297        0.200288   \n",
              "\n",
              "                 p_unclassifiable  \n",
              "ID                                 \n",
              "GDS_deep2_10075          0.199906  \n",
              "GDS_deep2_10082          0.198789  \n",
              "GDS_deep2_10087          0.199744  \n",
              "GDS_deep2_10110          0.199838  \n",
              "GDS_deep2_10135          0.199757  \n",
              "...                           ...  \n",
              "GDS_wide2_9762           0.199910  \n",
              "GDS_wide2_9865           0.197766  \n",
              "GDS_wide2_9894           0.199698  \n",
              "GDS_wide2_991            0.199626  \n",
              "GDS_wide2_9910           0.198936  \n",
              "\n",
              "[1136 rows x 5 columns]"
            ],
            "text/html": [
              "\n",
              "  <div id=\"df-fd65c059-72d0-4c60-bc77-455523be3cb1\">\n",
              "    <div class=\"colab-df-container\">\n",
              "      <div>\n",
              "<style scoped>\n",
              "    .dataframe tbody tr th:only-of-type {\n",
              "        vertical-align: middle;\n",
              "    }\n",
              "\n",
              "    .dataframe tbody tr th {\n",
              "        vertical-align: top;\n",
              "    }\n",
              "\n",
              "    .dataframe thead th {\n",
              "        text-align: right;\n",
              "    }\n",
              "</style>\n",
              "<table border=\"1\" class=\"dataframe\">\n",
              "  <thead>\n",
              "    <tr style=\"text-align: right;\">\n",
              "      <th></th>\n",
              "      <th>p_smooth</th>\n",
              "      <th>p_features</th>\n",
              "      <th>p_irregular</th>\n",
              "      <th>p_point_source</th>\n",
              "      <th>p_unclassifiable</th>\n",
              "    </tr>\n",
              "    <tr>\n",
              "      <th>ID</th>\n",
              "      <th></th>\n",
              "      <th></th>\n",
              "      <th></th>\n",
              "      <th></th>\n",
              "      <th></th>\n",
              "    </tr>\n",
              "  </thead>\n",
              "  <tbody>\n",
              "    <tr>\n",
              "      <th>GDS_deep2_10075</th>\n",
              "      <td>0.200256</td>\n",
              "      <td>0.200079</td>\n",
              "      <td>0.199844</td>\n",
              "      <td>0.199914</td>\n",
              "      <td>0.199906</td>\n",
              "    </tr>\n",
              "    <tr>\n",
              "      <th>GDS_deep2_10082</th>\n",
              "      <td>0.199838</td>\n",
              "      <td>0.200652</td>\n",
              "      <td>0.200348</td>\n",
              "      <td>0.200373</td>\n",
              "      <td>0.198789</td>\n",
              "    </tr>\n",
              "    <tr>\n",
              "      <th>GDS_deep2_10087</th>\n",
              "      <td>0.200298</td>\n",
              "      <td>0.200131</td>\n",
              "      <td>0.199882</td>\n",
              "      <td>0.199945</td>\n",
              "      <td>0.199744</td>\n",
              "    </tr>\n",
              "    <tr>\n",
              "      <th>GDS_deep2_10110</th>\n",
              "      <td>0.199980</td>\n",
              "      <td>0.200069</td>\n",
              "      <td>0.200126</td>\n",
              "      <td>0.199988</td>\n",
              "      <td>0.199838</td>\n",
              "    </tr>\n",
              "    <tr>\n",
              "      <th>GDS_deep2_10135</th>\n",
              "      <td>0.200019</td>\n",
              "      <td>0.200091</td>\n",
              "      <td>0.200019</td>\n",
              "      <td>0.200115</td>\n",
              "      <td>0.199757</td>\n",
              "    </tr>\n",
              "    <tr>\n",
              "      <th>...</th>\n",
              "      <td>...</td>\n",
              "      <td>...</td>\n",
              "      <td>...</td>\n",
              "      <td>...</td>\n",
              "      <td>...</td>\n",
              "    </tr>\n",
              "    <tr>\n",
              "      <th>GDS_wide2_9762</th>\n",
              "      <td>0.200012</td>\n",
              "      <td>0.200005</td>\n",
              "      <td>0.200088</td>\n",
              "      <td>0.199986</td>\n",
              "      <td>0.199910</td>\n",
              "    </tr>\n",
              "    <tr>\n",
              "      <th>GDS_wide2_9865</th>\n",
              "      <td>0.200981</td>\n",
              "      <td>0.200163</td>\n",
              "      <td>0.200764</td>\n",
              "      <td>0.200326</td>\n",
              "      <td>0.197766</td>\n",
              "    </tr>\n",
              "    <tr>\n",
              "      <th>GDS_wide2_9894</th>\n",
              "      <td>0.199974</td>\n",
              "      <td>0.200147</td>\n",
              "      <td>0.200034</td>\n",
              "      <td>0.200146</td>\n",
              "      <td>0.199698</td>\n",
              "    </tr>\n",
              "    <tr>\n",
              "      <th>GDS_wide2_991</th>\n",
              "      <td>0.200135</td>\n",
              "      <td>0.200068</td>\n",
              "      <td>0.200128</td>\n",
              "      <td>0.200042</td>\n",
              "      <td>0.199626</td>\n",
              "    </tr>\n",
              "    <tr>\n",
              "      <th>GDS_wide2_9910</th>\n",
              "      <td>0.200138</td>\n",
              "      <td>0.200341</td>\n",
              "      <td>0.200297</td>\n",
              "      <td>0.200288</td>\n",
              "      <td>0.198936</td>\n",
              "    </tr>\n",
              "  </tbody>\n",
              "</table>\n",
              "<p>1136 rows × 5 columns</p>\n",
              "</div>\n",
              "      <button class=\"colab-df-convert\" onclick=\"convertToInteractive('df-fd65c059-72d0-4c60-bc77-455523be3cb1')\"\n",
              "              title=\"Convert this dataframe to an interactive table.\"\n",
              "              style=\"display:none;\">\n",
              "        \n",
              "  <svg xmlns=\"http://www.w3.org/2000/svg\" height=\"24px\"viewBox=\"0 0 24 24\"\n",
              "       width=\"24px\">\n",
              "    <path d=\"M0 0h24v24H0V0z\" fill=\"none\"/>\n",
              "    <path d=\"M18.56 5.44l.94 2.06.94-2.06 2.06-.94-2.06-.94-.94-2.06-.94 2.06-2.06.94zm-11 1L8.5 8.5l.94-2.06 2.06-.94-2.06-.94L8.5 2.5l-.94 2.06-2.06.94zm10 10l.94 2.06.94-2.06 2.06-.94-2.06-.94-.94-2.06-.94 2.06-2.06.94z\"/><path d=\"M17.41 7.96l-1.37-1.37c-.4-.4-.92-.59-1.43-.59-.52 0-1.04.2-1.43.59L10.3 9.45l-7.72 7.72c-.78.78-.78 2.05 0 2.83L4 21.41c.39.39.9.59 1.41.59.51 0 1.02-.2 1.41-.59l7.78-7.78 2.81-2.81c.8-.78.8-2.07 0-2.86zM5.41 20L4 18.59l7.72-7.72 1.47 1.35L5.41 20z\"/>\n",
              "  </svg>\n",
              "      </button>\n",
              "      \n",
              "  <style>\n",
              "    .colab-df-container {\n",
              "      display:flex;\n",
              "      flex-wrap:wrap;\n",
              "      gap: 12px;\n",
              "    }\n",
              "\n",
              "    .colab-df-convert {\n",
              "      background-color: #E8F0FE;\n",
              "      border: none;\n",
              "      border-radius: 50%;\n",
              "      cursor: pointer;\n",
              "      display: none;\n",
              "      fill: #1967D2;\n",
              "      height: 32px;\n",
              "      padding: 0 0 0 0;\n",
              "      width: 32px;\n",
              "    }\n",
              "\n",
              "    .colab-df-convert:hover {\n",
              "      background-color: #E2EBFA;\n",
              "      box-shadow: 0px 1px 2px rgba(60, 64, 67, 0.3), 0px 1px 3px 1px rgba(60, 64, 67, 0.15);\n",
              "      fill: #174EA6;\n",
              "    }\n",
              "\n",
              "    [theme=dark] .colab-df-convert {\n",
              "      background-color: #3B4455;\n",
              "      fill: #D2E3FC;\n",
              "    }\n",
              "\n",
              "    [theme=dark] .colab-df-convert:hover {\n",
              "      background-color: #434B5C;\n",
              "      box-shadow: 0px 1px 3px 1px rgba(0, 0, 0, 0.15);\n",
              "      filter: drop-shadow(0px 1px 2px rgba(0, 0, 0, 0.3));\n",
              "      fill: #FFFFFF;\n",
              "    }\n",
              "  </style>\n",
              "\n",
              "      <script>\n",
              "        const buttonEl =\n",
              "          document.querySelector('#df-fd65c059-72d0-4c60-bc77-455523be3cb1 button.colab-df-convert');\n",
              "        buttonEl.style.display =\n",
              "          google.colab.kernel.accessAllowed ? 'block' : 'none';\n",
              "\n",
              "        async function convertToInteractive(key) {\n",
              "          const element = document.querySelector('#df-fd65c059-72d0-4c60-bc77-455523be3cb1');\n",
              "          const dataTable =\n",
              "            await google.colab.kernel.invokeFunction('convertToInteractive',\n",
              "                                                     [key], {});\n",
              "          if (!dataTable) return;\n",
              "\n",
              "          const docLinkHtml = 'Like what you see? Visit the ' +\n",
              "            '<a target=\"_blank\" href=https://colab.research.google.com/notebooks/data_table.ipynb>data table notebook</a>'\n",
              "            + ' to learn more about interactive tables.';\n",
              "          element.innerHTML = '';\n",
              "          dataTable['output_type'] = 'display_data';\n",
              "          await google.colab.output.renderOutput(dataTable, element);\n",
              "          const docLink = document.createElement('div');\n",
              "          docLink.innerHTML = docLinkHtml;\n",
              "          element.appendChild(docLink);\n",
              "        }\n",
              "      </script>\n",
              "    </div>\n",
              "  </div>\n",
              "  "
            ]
          },
          "metadata": {},
          "execution_count": 63
        }
      ]
    },
    {
      "cell_type": "code",
      "source": [
        "predicted2.to_csv('predicted2.csv', index=True)   #guardamos a csv lo predicho en el modelo 2, segunda prediccion enviada."
      ],
      "metadata": {
        "id": "gVtwnaxyR-Zk"
      },
      "execution_count": null,
      "outputs": []
    },
    {
      "cell_type": "markdown",
      "source": [
        "\n",
        "# alexnet\n",
        "\n"
      ],
      "metadata": {
        "id": "8l6kdJIAFF5R"
      }
    },
    {
      "cell_type": "code",
      "source": [
        "import tensorflow as tf\n",
        "from tensorflow import keras\n",
        "from tensorflow.keras import layers\n",
        "from keras.optimizers import Adam\n",
        "import matplotlib.pyplot as plt \n",
        "from keras.callbacks import EarlyStopping\n",
        "from tensorflow.keras.regularizers import l2\n",
        "\n",
        "# Define the AlexNet model architecture\n",
        "model3 = keras.Sequential([\n",
        "    # Convolutional layers\n",
        "    layers.Conv2D(128, kernel_size=3, strides=1, activation=\"relu\", input_shape=(31, 31, 1)),\n",
        "    layers.MaxPooling2D(pool_size=3, strides=1),\n",
        "    layers.Conv2D(256, kernel_size=5, padding=\"same\", activation=\"relu\"),\n",
        "    layers.MaxPooling2D(pool_size=3, strides=1),\n",
        "    layers.Conv2D(512, kernel_size=3, padding=\"same\", activation=\"relu\"),\n",
        "    layers.Conv2D(512, kernel_size=3, padding=\"same\", activation=\"relu\"),\n",
        "    layers.Conv2D(256, kernel_size=3, padding=\"same\", activation=\"relu\"),\n",
        "    layers.MaxPooling2D(pool_size=3, strides=2),\n",
        "    \n",
        "    # Flatten layer\n",
        "    layers.Flatten(),\n",
        "    \n",
        "    # Fully-connected layers\n",
        "    layers.Dense(4096, activation=\"relu\", kernel_regularizer=l2(0.001)),\n",
        "    layers.Dropout(0.5),\n",
        "    layers.Dense(4096, activation=\"relu\", kernel_regularizer=l2(0.001)),\n",
        "    layers.Dropout(0.5),\n",
        "    layers.Dense(5, activation=\"softmax\")\n",
        "])\n",
        "\n",
        "# Compile the model\n",
        "optimizer = Adam(learning_rate=0.0001, beta_1=0.9, beta_2=0.999)\n",
        "model3.compile(optimizer=optimizer,loss='mean_squared_error', metrics=[\"accuracy\"])\n",
        "\n",
        "\n",
        "# Entrenar modelo\n",
        "history3 = model3.fit(x_data_train, y_data_train, epochs=50, batch_size= 10, callbacks = [EarlyStopping(monitor='val_accuracy', patience=5)], validation_split=0.2)\n",
        "\n",
        "# Print model summary\n",
        "model3.summary()\n",
        "\n",
        "\n",
        "#plot\n",
        "plt.figure(figsize=(10, 10))\n",
        "\n",
        "plt.subplot(2, 2, 1)\n",
        "plt.plot(history3.history['loss'], label='Loss')\n",
        "plt.plot(history3.history['val_loss'], label='Validation Loss')\n",
        "plt.legend()\n",
        "plt.title('Training - Loss Function')\n",
        "\n",
        "plt.subplot(2, 2, 2)\n",
        "plt.plot(history3.history['accuracy'], label='Accuracy')\n",
        "plt.plot(history3.history['val_accuracy'], label='Validation Accuracy')\n",
        "plt.legend()\n",
        "plt.title('Train - Accuracy')"
      ],
      "metadata": {
        "colab": {
          "base_uri": "https://localhost:8080/",
          "height": 1000
        },
        "id": "MIb_zD4EBjPq",
        "outputId": "5176de99-ac70-4f1b-d024-c331c6849266"
      },
      "execution_count": null,
      "outputs": [
        {
          "output_type": "stream",
          "name": "stdout",
          "text": [
            "Epoch 1/50\n"
          ]
        },
        {
          "output_type": "stream",
          "name": "stderr",
          "text": [
            "Exception ignored in: <function _xla_gc_callback at 0x7f66e5e02f80>\n",
            "Traceback (most recent call last):\n",
            "  File \"/usr/local/lib/python3.10/dist-packages/jax/_src/lib/__init__.py\", line 97, in _xla_gc_callback\n",
            "    def _xla_gc_callback(*args):\n",
            "KeyboardInterrupt: \n"
          ]
        },
        {
          "output_type": "stream",
          "name": "stdout",
          "text": [
            "515/515 [==============================] - 165s 102ms/step - loss: 1.4662 - accuracy: 0.6275 - val_loss: 0.1130 - val_accuracy: 0.6884\n",
            "Epoch 2/50\n",
            "515/515 [==============================] - 51s 99ms/step - loss: 0.0709 - accuracy: 0.7144 - val_loss: 0.0494 - val_accuracy: 0.7273\n",
            "Epoch 3/50\n",
            "515/515 [==============================] - 52s 100ms/step - loss: 0.0466 - accuracy: 0.7107 - val_loss: 0.0423 - val_accuracy: 0.7055\n",
            "Epoch 4/50\n",
            "515/515 [==============================] - 51s 100ms/step - loss: 0.0411 - accuracy: 0.7214 - val_loss: 0.0398 - val_accuracy: 0.7335\n",
            "Epoch 5/50\n",
            "515/515 [==============================] - 52s 100ms/step - loss: 0.0386 - accuracy: 0.7257 - val_loss: 0.0384 - val_accuracy: 0.7110\n",
            "Epoch 6/50\n",
            "515/515 [==============================] - 49s 96ms/step - loss: 0.0377 - accuracy: 0.7251 - val_loss: 0.0381 - val_accuracy: 0.7428\n",
            "Epoch 7/50\n",
            "515/515 [==============================] - 49s 95ms/step - loss: 0.0370 - accuracy: 0.7304 - val_loss: 0.0351 - val_accuracy: 0.7483\n",
            "Epoch 8/50\n",
            "515/515 [==============================] - 51s 100ms/step - loss: 0.0360 - accuracy: 0.7344 - val_loss: 0.0369 - val_accuracy: 0.7001\n",
            "Epoch 9/50\n",
            "515/515 [==============================] - 49s 95ms/step - loss: 0.0350 - accuracy: 0.7397 - val_loss: 0.0339 - val_accuracy: 0.7319\n",
            "Epoch 10/50\n",
            "515/515 [==============================] - 49s 95ms/step - loss: 0.0341 - accuracy: 0.7448 - val_loss: 0.0351 - val_accuracy: 0.7490\n",
            "Epoch 11/50\n",
            "515/515 [==============================] - 49s 95ms/step - loss: 0.0339 - accuracy: 0.7459 - val_loss: 0.0341 - val_accuracy: 0.7537\n",
            "Epoch 12/50\n",
            "515/515 [==============================] - 51s 100ms/step - loss: 0.0337 - accuracy: 0.7459 - val_loss: 0.0336 - val_accuracy: 0.7498\n",
            "Epoch 13/50\n",
            "515/515 [==============================] - 51s 100ms/step - loss: 0.0330 - accuracy: 0.7500 - val_loss: 0.0329 - val_accuracy: 0.7537\n",
            "Epoch 14/50\n",
            "515/515 [==============================] - 49s 95ms/step - loss: 0.0318 - accuracy: 0.7510 - val_loss: 0.0327 - val_accuracy: 0.7413\n",
            "Epoch 15/50\n",
            "515/515 [==============================] - 49s 95ms/step - loss: 0.0315 - accuracy: 0.7529 - val_loss: 0.0314 - val_accuracy: 0.7514\n",
            "Epoch 16/50\n",
            "515/515 [==============================] - 49s 95ms/step - loss: 0.0311 - accuracy: 0.7576 - val_loss: 0.0339 - val_accuracy: 0.7521\n",
            "Model: \"sequential_18\"\n",
            "_________________________________________________________________\n",
            " Layer (type)                Output Shape              Param #   \n",
            "=================================================================\n",
            " conv2d_92 (Conv2D)          (None, 29, 29, 128)       1280      \n",
            "                                                                 \n",
            " max_pooling2d_52 (MaxPoolin  (None, 27, 27, 128)      0         \n",
            " g2D)                                                            \n",
            "                                                                 \n",
            " conv2d_93 (Conv2D)          (None, 27, 27, 256)       819456    \n",
            "                                                                 \n",
            " max_pooling2d_53 (MaxPoolin  (None, 25, 25, 256)      0         \n",
            " g2D)                                                            \n",
            "                                                                 \n",
            " conv2d_94 (Conv2D)          (None, 25, 25, 512)       1180160   \n",
            "                                                                 \n",
            " conv2d_95 (Conv2D)          (None, 25, 25, 512)       2359808   \n",
            "                                                                 \n",
            " conv2d_96 (Conv2D)          (None, 25, 25, 256)       1179904   \n",
            "                                                                 \n",
            " max_pooling2d_54 (MaxPoolin  (None, 12, 12, 256)      0         \n",
            " g2D)                                                            \n",
            "                                                                 \n",
            " flatten_18 (Flatten)        (None, 36864)             0         \n",
            "                                                                 \n",
            " dense_51 (Dense)            (None, 4096)              150999040 \n",
            "                                                                 \n",
            " dropout_46 (Dropout)        (None, 4096)              0         \n",
            "                                                                 \n",
            " dense_52 (Dense)            (None, 4096)              16781312  \n",
            "                                                                 \n",
            " dropout_47 (Dropout)        (None, 4096)              0         \n",
            "                                                                 \n",
            " dense_53 (Dense)            (None, 5)                 20485     \n",
            "                                                                 \n",
            "=================================================================\n",
            "Total params: 173,341,445\n",
            "Trainable params: 173,341,445\n",
            "Non-trainable params: 0\n",
            "_________________________________________________________________\n"
          ]
        },
        {
          "output_type": "execute_result",
          "data": {
            "text/plain": [
              "Text(0.5, 1.0, 'Train - Accuracy')"
            ]
          },
          "metadata": {},
          "execution_count": 30
        },
        {
          "output_type": "display_data",
          "data": {
            "text/plain": [
              "<Figure size 1000x1000 with 2 Axes>"
            ],
            "image/png": "[encoded data removed]"
          },
          "metadata": {}
        }
      ]
    },
    {
      "cell_type": "markdown",
      "source": [
        "Se ve que el error disminuye rapidamente, sin embargo el accuracy se ve inestable pero en promedio menor a lo logrado en el segundo modelo (LeNet con dropout), por lo tanto no necesariamente un modelo mas complicado puede lograr mejores resultados, no obstante, el entrenamiento fue mas rapido."
      ],
      "metadata": {
        "id": "tD6JUYpt9Wb6"
      }
    },
    {
      "cell_type": "code",
      "source": [
        "#Get the predictions for the test data\n",
        "predicted_classes = model3.predict(x_test)   #y_test o predicciones de datos que no ha visto el modelo\n",
        "predicted_classes"
      ],
      "metadata": {
        "colab": {
          "base_uri": "https://localhost:8080/"
        },
        "id": "KzdmtdcDHxz5",
        "outputId": "72354e1a-a0ba-47cb-89e1-caaff0be4f92"
      },
      "execution_count": null,
      "outputs": [
        {
          "output_type": "stream",
          "name": "stdout",
          "text": [
            "36/36 [==============================] - 1s 8ms/step\n"
          ]
        },
        {
          "output_type": "execute_result",
          "data": {
            "text/plain": [
              "array([[4.4482374e-01, 9.1176853e-02, 3.3969063e-02, 4.0818587e-01,\n",
              "        2.1844549e-02],\n",
              "       [1.3564554e-01, 7.8950220e-01, 6.4421214e-02, 6.1562299e-03,\n",
              "        4.2748172e-03],\n",
              "       [4.8528689e-01, 2.3121832e-01, 5.7473615e-02, 2.1041651e-01,\n",
              "        1.5604680e-02],\n",
              "       ...,\n",
              "       [1.6608354e-02, 9.1915393e-01, 5.9067618e-02, 4.4211670e-04,\n",
              "        4.7279978e-03],\n",
              "       [6.4663696e-01, 1.4677210e-01, 1.6064117e-02, 1.8872224e-01,\n",
              "        1.8045927e-03],\n",
              "       [8.4440336e-02, 8.7453026e-01, 3.7899159e-02, 1.7467117e-03,\n",
              "        1.3835059e-03]], dtype=float32)"
            ]
          },
          "metadata": {},
          "execution_count": 15
        }
      ]
    },
    {
      "cell_type": "markdown",
      "source": [
        "# VGG"
      ],
      "metadata": {
        "id": "cdG1-ezPFZyz"
      }
    },
    {
      "cell_type": "code",
      "source": [
        "from keras.models import Sequential\n",
        "from keras.layers import Conv2D, MaxPooling2D, Flatten, Dense, Dropout\n",
        "\n",
        "# Definir el modelo\n",
        "model4 = Sequential()\n",
        "\n",
        "# Capas convolucionales\n",
        "model4.add(Conv2D(64, (3, 3), padding='same', activation='relu', input_shape=(31, 31, 1)))\n",
        "model4.add(Conv2D(64, (3, 3), padding='same', activation='relu'))\n",
        "model4.add(MaxPooling2D((2, 2), strides=(2, 2)))\n",
        "\n",
        "model4.add(Conv2D(128, (3, 3), padding='same', activation='relu'))\n",
        "model4.add(Conv2D(128, (3, 3), padding='same', activation='relu'))\n",
        "model4.add(MaxPooling2D((2, 2), strides=(2, 2)))\n",
        "\n",
        "model4.add(Conv2D(256, (3, 3), padding='same', activation='relu'))\n",
        "model4.add(Conv2D(256, (3, 3), padding='same', activation='relu'))\n",
        "model4.add(Conv2D(256, (3, 3), padding='same', activation='relu'))\n",
        "model4.add(MaxPooling2D((2, 2), strides=(2, 2)))\n",
        "\n",
        "model4.add(Conv2D(512, (3, 3), padding='same', activation='relu'))\n",
        "model4.add(Conv2D(512, (3, 3), padding='same', activation='relu'))\n",
        "model4.add(Conv2D(512, (3, 3), padding='same', activation='relu'))\n",
        "model4.add(MaxPooling2D((2, 2), strides=(2, 2)))\n",
        "\n",
        "model4.add(Conv2D(512, (3, 3), padding='same', activation='relu'))\n",
        "model4.add(Conv2D(512, (3, 3), padding='same', activation='relu'))\n",
        "model4.add(Conv2D(512, (3, 3), padding='same', activation='relu'))\n",
        "# model4.add(MaxPooling2D((2, 2), strides=(2, 2)))\n",
        "\n",
        "# Capas completamente conectadas\n",
        "model4.add(Flatten())\n",
        "model4.add(Dense(128, activation='relu'))\n",
        "model4.add(Dropout(0.5))\n",
        "model4.add(Dense(128, activation='relu'))\n",
        "model4.add(Dropout(0.5))\n",
        "model4.add(Dense(5, activation='softmax'))\n",
        "\n",
        "\n",
        "# Compilar modelo\n",
        "optimizer = Adam(learning_rate=0.001, beta_1=0.9, beta_2=0.999)\n",
        "model4.compile(optimizer=optimizer, loss='mean_squared_error', metrics=['accuracy'])   #categorical_crossentropy\n",
        "\n",
        "# Entrenar modelo\n",
        "history4 = model4.fit(x_data_train, y_data_train, epochs=50, batch_size= 5, callbacks = [EarlyStopping(monitor='val_accuracy', patience=5)], validation_split=0.2)\n",
        "\n",
        "\n",
        "#plot\n",
        "plt.figure(figsize=(10, 10))\n",
        "\n",
        "plt.subplot(2, 2, 1)\n",
        "plt.plot(history4.history['loss'], label='Loss')\n",
        "plt.plot(history4.history['val_loss'], label='Validation Loss')\n",
        "plt.legend()\n",
        "plt.title('Training - Loss Function')\n",
        "\n",
        "plt.subplot(2, 2, 2)\n",
        "plt.plot(history4.history['accuracy'], label='Accuracy')\n",
        "plt.plot(history4.history['val_accuracy'], label='Validation Accuracy')\n",
        "plt.legend()\n",
        "plt.title('Train - Accuracy')"
      ],
      "metadata": {
        "colab": {
          "base_uri": "https://localhost:8080/",
          "height": 670
        },
        "id": "BXdR9QK7FbMM",
        "outputId": "1cd1be06-afb8-45fb-c830-166edd18e2af"
      },
      "execution_count": null,
      "outputs": [
        {
          "output_type": "stream",
          "name": "stdout",
          "text": [
            "Epoch 1/50\n",
            "1029/1029 [==============================] - 22s 20ms/step - loss: 0.0575 - accuracy: 0.5682 - val_loss: 0.0564 - val_accuracy: 0.5563\n",
            "Epoch 2/50\n",
            "1029/1029 [==============================] - 21s 21ms/step - loss: 0.0559 - accuracy: 0.5704 - val_loss: 0.0562 - val_accuracy: 0.5563\n",
            "Epoch 3/50\n",
            "1029/1029 [==============================] - 19s 19ms/step - loss: 0.0558 - accuracy: 0.5704 - val_loss: 0.0562 - val_accuracy: 0.5563\n",
            "Epoch 4/50\n",
            "1029/1029 [==============================] - 20s 19ms/step - loss: 0.0556 - accuracy: 0.5704 - val_loss: 0.0563 - val_accuracy: 0.5563\n",
            "Epoch 5/50\n",
            "1029/1029 [==============================] - 19s 19ms/step - loss: 0.0556 - accuracy: 0.5704 - val_loss: 0.0563 - val_accuracy: 0.5563\n",
            "Epoch 6/50\n",
            "1029/1029 [==============================] - 20s 19ms/step - loss: 0.0555 - accuracy: 0.5704 - val_loss: 0.0563 - val_accuracy: 0.5563\n"
          ]
        },
        {
          "output_type": "execute_result",
          "data": {
            "text/plain": [
              "Text(0.5, 1.0, 'Train - Accuracy')"
            ]
          },
          "metadata": {},
          "execution_count": 16
        },
        {
          "output_type": "display_data",
          "data": {
            "text/plain": [
              "<Figure size 1000x1000 with 2 Axes>"
            ],
            "image/png": "[encoded data removed]"
          },
          "metadata": {}
        }
      ]
    },
    {
      "cell_type": "markdown",
      "source": [
        "El modelo VGG posee un overfitting muy grande y el accuracy se ve distante, considerando la escala a la cual está. No vale la pena efectuar la prediccion con este modelo."
      ],
      "metadata": {
        "id": "NWIkA5ns9qjQ"
      }
    },
    {
      "cell_type": "code",
      "source": [
        "#Get the predictions for the test data\n",
        "predicted_classes = model4.predict(x_test)   #y_test o predicciones de datos que no ha visto el modelo\n",
        "predicted_classes"
      ],
      "metadata": {
        "id": "lOzfEPgDH2KV"
      },
      "execution_count": null,
      "outputs": []
    }
  ]
}